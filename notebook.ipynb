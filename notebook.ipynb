{
 "cells": [
  {
   "cell_type": "code",
   "execution_count": 1,
   "metadata": {},
   "outputs": [],
   "source": [
    "# https://mapas.inmet.gov.br/\n",
    "\n",
    "SEARCH = \"INMET_SE_MG_A562_PATOS DE MINAS\"\n",
    "column = 'PRECIPITAÇÃO TOTAL, HORÁRIO (mm)'"
   ]
  },
  {
   "cell_type": "code",
   "execution_count": 2,
   "metadata": {},
   "outputs": [
    {
     "name": "stdout",
     "output_type": "stream",
     "text": [
      "['data/2015.zip', 'data/2016.zip', 'data/2017.zip', 'data/2018.zip', 'data/2019.zip', 'data/2020.zip', 'data/2021.zip']\n"
     ]
    }
   ],
   "source": [
    "import numpy as np\n",
    "import pandas as pd\n",
    "import matplotlib.pyplot as plt\n",
    "from matplotlib.ticker import StrMethodFormatter\n",
    "from zipfile import ZipFile\n",
    "import datetime\n",
    "import glob\n",
    "zips = [name for name in glob.glob(r'data/[0-9][0-9][0-9][0-9].zip')]\n",
    "print(zips)"
   ]
  },
  {
   "cell_type": "code",
   "execution_count": 3,
   "metadata": {},
   "outputs": [],
   "source": [
    "# LIST CSV's\n",
    "def list_zips():\n",
    "   i=0\n",
    "   zip_file = ZipFile(zips[i])\n",
    "   for text_file in zip_file.infolist():\n",
    "       if text_file.filename.upper().endswith('.CSV'):\n",
    "          print(text_file.filename)\n",
    "#list_zips()"
   ]
  },
  {
   "cell_type": "code",
   "execution_count": 4,
   "metadata": {},
   "outputs": [
    {
     "data": {
      "text/plain": [
       "<AxesSubplot:xlabel='time'>"
      ]
     },
     "execution_count": 4,
     "metadata": {},
     "output_type": "execute_result"
    },
    {
     "data": {
      "image/png": "[encoded data removed]",
      "text/plain": [
       "<Figure size 432x288 with 1 Axes>"
      ]
     },
     "metadata": {
      "needs_background": "light"
     },
     "output_type": "display_data"
    }
   ],
   "source": [
    "dfs = []\n",
    "for zip_filename in zips:\n",
    "    zip_file = ZipFile(zip_filename)\n",
    "    new = [\n",
    "       pd.read_csv(zip_file.open(text_file.filename),  header=8, sep=';', quotechar='\"',  encoding=\"ISO-8859-1\")\n",
    "       for text_file in zip_file.infolist()\n",
    "       if text_file.filename.upper().endswith('.CSV') and SEARCH.upper() in text_file.filename.upper()\n",
    "    ]\n",
    "    if len(new) == 0:\n",
    "        continue\n",
    "    new = new[-1]\n",
    "    \n",
    "    try:\n",
    "        new[\"time\"] = new[\"Data\"].apply(lambda x: datetime.datetime.strptime(x, '%Y/%m/%d'))\n",
    "    except KeyError:\n",
    "        try:\n",
    "            new[\"time\"] = new[\"DATA (YYYY-MM-DD)\"].apply(lambda x: datetime.datetime.strptime(x, '%Y-%m-%d'))    \n",
    "        except:\n",
    "            print(\"Error on\")\n",
    "            print(new)\n",
    "            break\n",
    "    \n",
    "    new[column] = new[column].str.replace('-9999', '0')\n",
    "    new[column] = new[column].str.replace(',', '.').astype(float)\n",
    "    dfs += [new]\n",
    "\n",
    "\n",
    "i=1\n",
    "df = pd.concat(dfs)\n",
    "df = dfs[i]\n",
    "df[column].groupby(df['time'].dt.to_period('M')).sum().plot(kind='bar')\n",
    "#s = df.groupby(pd.Grouper(freq=\"M\", key=\"time\"))[column].sum()\n"
   ]
  }
 ],
 "metadata": {
  "kernelspec": {
   "display_name": "Python 3",
   "language": "python",
   "name": "python3"
  },
  "language_info": {
   "codemirror_mode": {
    "name": "ipython",
    "version": 3
   },
   "file_extension": ".py",
   "mimetype": "text/x-python",
   "name": "python",
   "nbconvert_exporter": "python",
   "pygments_lexer": "ipython3",
   "version": "3.7.9"
  }
 },
 "nbformat": 4,
 "nbformat_minor": 4
}
